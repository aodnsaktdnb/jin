{
 "cells": [
  {
   "cell_type": "markdown",
   "id": "18b27629-18cb-4a42-ae5e-e09b05331a89",
   "metadata": {},
   "source": [
    "# 빅데이터02 파이썬제어문"
   ]
  },
  {
   "cell_type": "markdown",
   "id": "ce3db563-96d7-4501-a876-8aeb61199aa5",
   "metadata": {},
   "source": [
    "## if문"
   ]
  },
  {
   "cell_type": "code",
   "execution_count": null,
   "id": "8d8bb399-3d21-45da-9fa1-591929a8893c",
   "metadata": {},
   "outputs": [],
   "source": [
    "if True:\n",
    "    print('조건문 가동')"
   ]
  },
  {
   "cell_type": "code",
   "execution_count": 10,
   "id": "11d013db-8e1d-481b-9986-656df2c7f052",
   "metadata": {},
   "outputs": [
    {
     "name": "stdout",
     "output_type": "stream",
     "text": [
      "x=3 y=2 일 떄\n",
      "x<y: False\n",
      "x>y: True\n",
      "x>=y: True\n",
      "x<=y: False\n",
      "x==y: False\n",
      "x!=y: True\n"
     ]
    }
   ],
   "source": [
    "x,y = 3,2\n",
    "print(f'x={x} y={y} 일 떄')\n",
    "\n",
    "print('x<y:',x<y)\n",
    "print('x>y:',x>y)\n",
    "print('x>=y:',x>=y)\n",
    "print('x<=y:',x<=y)\n",
    "print('x==y:',x==y)\n",
    "print('x!=y:',x!=y)"
   ]
  },
  {
   "cell_type": "code",
   "execution_count": 16,
   "id": "2d2adde3-3b76-427b-b3e9-32b975de06d0",
   "metadata": {},
   "outputs": [
    {
     "name": "stdin",
     "output_type": "stream",
     "text": [
      "주머니에 현금이 얼마있어? 7000\n"
     ]
    },
    {
     "name": "stdout",
     "output_type": "stream",
     "text": [
      "택시타자\n"
     ]
    }
   ],
   "source": [
    "#만약 5000원의 돈을 가지고 있으면 택시를 타고, 그렇지 않으면 걸어가라.\n",
    "money = int(input('주머니에 현금이 얼마있어?')or 3000)\n",
    "if money >= 5000:\n",
    "    print('택시타자')\n",
    "else:\n",
    "    print('걸어가자')"
   ]
  },
  {
   "cell_type": "code",
   "execution_count": 18,
   "id": "47f9063b-34b7-4b4a-a490-530fe364886c",
   "metadata": {},
   "outputs": [
    {
     "name": "stdout",
     "output_type": "stream",
     "text": [
      "싫어도 걸어가\n"
     ]
    }
   ],
   "source": [
    "money = 2000\n",
    "card = False\n",
    "friend = True \n",
    "\n",
    "if (money >= 30000 and friend) or not card:\n",
    "    print(\"싫어도 걸어가\")\n",
    "else:\n",
    "    print(\"택시타고 가세요\")"
   ]
  },
  {
   "cell_type": "code",
   "execution_count": 20,
   "id": "7ff325a9-bf80-4bb4-adbd-cd0705128372",
   "metadata": {},
   "outputs": [
    {
     "name": "stdout",
     "output_type": "stream",
     "text": [
      "True\n",
      "False\n",
      "True\n",
      "True\n",
      "False\n"
     ]
    }
   ],
   "source": [
    "print(3 in[3,4,6,78,98,1,2,1,2,3])\n",
    "print(3 not in[3,4,6,78,98,1,2,1,2,3])\n",
    "print('a' in ('a','b','c','d','e'))\n",
    "print('f' not in ('a','b','c','d','e'))\n",
    "print('y' not in 'python')"
   ]
  },
  {
   "cell_type": "code",
   "execution_count": 22,
   "id": "17c627c8-2d58-47c4-87f6-6abf30b68d3b",
   "metadata": {},
   "outputs": [
    {
     "name": "stdin",
     "output_type": "stream",
     "text": [
      "점수를 입력하세요 4\n"
     ]
    },
    {
     "name": "stdout",
     "output_type": "stream",
     "text": [
      "실패\n"
     ]
    }
   ],
   "source": [
    "#조건부 표현식\n",
    "score = int(input('점수를 입력하세요'))\n",
    "'''\n",
    "if score >= 60:\n",
    "    message = \"성공\"\n",
    "else:\n",
    "    message = \"실패\" '''\n",
    "\n",
    "message = \"성공\" if score>=60 else \"실패\"\n",
    "print(message)"
   ]
  },
  {
   "cell_type": "markdown",
   "id": "ca9dbd9a-67d3-4303-98b6-9df62ba47844",
   "metadata": {},
   "source": [
    "## while문"
   ]
  },
  {
   "cell_type": "code",
   "execution_count": 24,
   "id": "8dd7ccdb-644b-4a51-b1d6-1aabfed1c335",
   "metadata": {},
   "outputs": [
    {
     "name": "stdout",
     "output_type": "stream",
     "text": [
      "나무를 1번 찍었습니다.\n",
      "나무를 2번 찍었습니다.\n",
      "나무를 3번 찍었습니다.\n",
      "나무를 4번 찍었습니다.\n",
      "나무를 5번 찍었습니다.\n",
      "나무를 6번 찍었습니다.\n",
      "나무를 7번 찍었습니다.\n",
      "나무를 8번 찍었습니다.\n",
      "나무를 9번 찍었습니다.\n",
      "나무를 10번 찍었습니다.\n",
      "나무가 넘어갑니다,\n"
     ]
    }
   ],
   "source": [
    "hit = 0\n",
    "while hit < 10:\n",
    "    hit += 1\n",
    "    print(f'나무를 {hit}번 찍었습니다.')\n",
    "    if hit == 10:\n",
    "        print(\"나무가 넘어갑니다,\")"
   ]
  },
  {
   "cell_type": "code",
   "execution_count": 5,
   "id": "5722aad1-11d3-475f-9738-33bc1d574be7",
   "metadata": {},
   "outputs": [
    {
     "name": "stdout",
     "output_type": "stream",
     "text": [
      "\n",
      "1. Add\n",
      "2. Del\n",
      "3. List\n",
      "4. Quit\n",
      "\n",
      "Enter number:\n",
      "\n"
     ]
    },
    {
     "name": "stdin",
     "output_type": "stream",
     "text": [
      " 8\n"
     ]
    },
    {
     "name": "stdout",
     "output_type": "stream",
     "text": [
      "잘못된 입력입니다.\n",
      "프로그램을 종료합니다.\n"
     ]
    }
   ],
   "source": [
    "# while의 break구문 \n",
    "prompt = \"\"\"\n",
    "1. Add\n",
    "2. Del\n",
    "3. List\n",
    "4. Quit\n",
    "\n",
    "Enter number:\n",
    "\"\"\"\n",
    "number = 0\n",
    "while number !=4 :\n",
    "    print(prompt)\n",
    "    number = int(input())\n",
    "    if number > 4:\n",
    "        print('잘못된 입력입니다.')\n",
    "        break  \n",
    "    print(f'입력하신 숫자는 {number} 입니다.')\n",
    "print('프로그램을 종료합니다.')    "
   ]
  },
  {
   "cell_type": "code",
   "execution_count": 8,
   "id": "5e99a822-b492-4e97-ae99-117781e5bda9",
   "metadata": {},
   "outputs": [
    {
     "name": "stdout",
     "output_type": "stream",
     "text": [
      "1\n",
      "난달라 2\n",
      "3\n",
      "난달라 4\n",
      "5\n",
      "난달라 6\n",
      "7\n",
      "난달라 8\n",
      "9\n",
      "난달라 10\n"
     ]
    }
   ],
   "source": [
    "# while의 continue 구문 \n",
    "a = 0\n",
    "while a < 10:\n",
    "    a += 1\n",
    "    if a % 2 == 0:\n",
    "        print('난달라',a) \n",
    "        continue\n",
    "    print(a)"
   ]
  },
  {
   "cell_type": "markdown",
   "id": "d2d31093-3896-4671-9f53-e889f563aabf",
   "metadata": {},
   "source": [
    "## for문"
   ]
  },
  {
   "cell_type": "code",
   "execution_count": 7,
   "id": "1f301cbb-f362-465b-b8a1-c2134bb45624",
   "metadata": {},
   "outputs": [
    {
     "name": "stdout",
     "output_type": "stream",
     "text": [
      "123456789"
     ]
    }
   ],
   "source": [
    "for i in [1,2,3,4,5,6,7,8,9]:\n",
    "    print(i, end='') #end='' 를 사용하면 세로가 아닌 일렬로 출력됨 "
   ]
  },
  {
   "cell_type": "code",
   "execution_count": 8,
   "id": "cdc3f7a1-b944-4494-b544-880b9c9d4422",
   "metadata": {},
   "outputs": [
    {
     "name": "stdout",
     "output_type": "stream",
     "text": [
      "kakao talk"
     ]
    }
   ],
   "source": [
    "for i in 'kakao talk':\n",
    "    print(i, end='')"
   ]
  },
  {
   "cell_type": "code",
   "execution_count": 9,
   "id": "48a32d72-5198-47b9-a4f4-d552a5605189",
   "metadata": {},
   "outputs": [
    {
     "name": "stdout",
     "output_type": "stream",
     "text": [
      "1 x 2 = 2\n",
      "3 x 4 = 12\n",
      "5 x 6 = 30\n"
     ]
    }
   ],
   "source": [
    "mix = [(1,2),(3,4),(5,6)]\n",
    "for (f,r)in mix:\n",
    "    print(f'{f} x {r} = {f*r}')"
   ]
  },
  {
   "cell_type": "code",
   "execution_count": 12,
   "id": "3aa196b9-691b-4348-ac6a-d163a5d5fc58",
   "metadata": {},
   "outputs": [
    {
     "name": "stdout",
     "output_type": "stream",
     "text": [
      "1 + 11 = 12 : 9\n",
      "2 + 22 = 24 : 8\n",
      "3 + 33 = 36 : 7\n",
      "4 + 44 = 48 : 6\n",
      "5 + 55 = 60 : 5\n",
      "6 + 66 = 72 : 4\n",
      "7 + 77 = 84 : 3\n",
      "8 + 88 = 96 : 2\n",
      "9 + 99 = 108 : 1\n"
     ]
    }
   ],
   "source": [
    "#for 구문과 zip구문 \n",
    "a = [1,2,3,4,5,6,7,8,9]\n",
    "b = [11,22,33,44,55,66,77,88,99]\n",
    "c = [9,8,7,6,5,4,3,2,1]\n",
    "for (i,j,k) in zip(a,b,c,):\n",
    "    print(f'{i} + {j} = {i+j} : {k}')"
   ]
  },
  {
   "cell_type": "code",
   "execution_count": 9,
   "id": "89047237-8332-4f57-9db5-7c805f35f3b3",
   "metadata": {},
   "outputs": [
    {
     "name": "stdout",
     "output_type": "stream",
     "text": [
      "학생 2: 58불합격\n",
      "학생 4: 24불합격\n",
      "학생 7: 15불합격\n"
     ]
    }
   ],
   "source": [
    "marks = [90, 58, 77, 24, 66, 78, 15, 100, 85]\n",
    "s=0\n",
    "for i in marks:\n",
    "    s+=1\n",
    "    if i<= 60:\n",
    "        print(f'학생 {s}: {i}불합격')\n",
    "        continue\n",
    "        print(f'학생 {s}: {i}점 합격 축하합니다.')\n",
    "       "
   ]
  },
  {
   "cell_type": "code",
   "execution_count": 13,
   "id": "829cd73e-6bf0-4603-8947-bd953ebbf6e5",
   "metadata": {},
   "outputs": [
    {
     "name": "stdout",
     "output_type": "stream",
     "text": [
      "[0, 1, 2, 3, 4, 5, 6, 7, 8, 9]\n",
      "(77, 78, 79, 80, 81, 82, 83, 84)\n",
      "{5, 6, 7, 8, 9, 10, 11, 12, 13, 14}\n"
     ]
    }
   ],
   "source": [
    "#range 함수\n",
    "a = range(10) # -> 0 < = a < 10\n",
    "b = range(77,85)\n",
    "c = range(5,15)\n",
    "print(list(a))\n",
    "print(tuple(b))\n",
    "print(set(c))"
   ]
  },
  {
   "cell_type": "code",
   "execution_count": 15,
   "id": "a2b6114b-2669-4d87-b6f5-a14fc419a6b2",
   "metadata": {},
   "outputs": [
    {
     "name": "stdout",
     "output_type": "stream",
     "text": [
      "True\n",
      "[4, 6, 8, 10, 12, 14, 16, 18]\n",
      "(10, 9, 8, 7, 6, 5, 4, 3, 2, 1, 0)\n"
     ]
    }
   ],
   "source": [
    "# range 함수 2 #for(int i = 0; i <10; i++)\n",
    "a = range(0,10,1)\n",
    "b = range(10)\n",
    "print(a==b)\n",
    "print(list(range(4,20,2)))\n",
    "print(tuple(range(10,-1,-1)))"
   ]
  },
  {
   "cell_type": "code",
   "execution_count": 21,
   "id": "ed72a0df-b084-4ce8-9793-fc09908ab3f9",
   "metadata": {},
   "outputs": [
    {
     "name": "stdout",
     "output_type": "stream",
     "text": [
      "[10, 12, 14, 16, 18, 20, 22, 24, 26, 28, 30, 32, 34, 36, 38]\n",
      "4 10 : 5 12 : 6 14 : 7 16 : 8 18 : 9 20 : 10 22 : 11 24 : 12 26 : 13 28 : 14 30 : 15 32 : 16 34 : 17 36 : 18 38 : "
     ]
    }
   ],
   "source": [
    "# tip - 배열의 index와 value\n",
    "num = list(range(10,40,2)) #10부터 40까지 2씩 증가시킴\n",
    "print(num)\n",
    "for i, v in enumerate(num,4): #num, 다음 숫자는 시작값임 ex.인덱스 4번 부터 시작\n",
    "    #enumerate의 경우 인덱스와 값을 출력해줌\n",
    "    print(i,v, end=' : ')"
   ]
  },
  {
   "cell_type": "code",
   "execution_count": 30,
   "id": "87c0997d-1b85-40c4-a3d0-c5f7b97d2bc6",
   "metadata": {},
   "outputs": [
    {
     "name": "stdout",
     "output_type": "stream",
     "text": [
      "++++2단++++\n",
      "2 x 1 = 2\n",
      "\n",
      "2 x 2 = 4\n",
      "\n",
      "2 x 3 = 6\n",
      "\n",
      "2 x 4 = 8\n",
      "\n",
      "2 x 5 = 10\n",
      "\n",
      "2 x 6 = 12\n",
      "\n",
      "2 x 7 = 14\n",
      "\n",
      "2 x 8 = 16\n",
      "\n",
      "2 x 9 = 18\n",
      "\n",
      "++++3단++++\n",
      "3 x 1 = 3\n",
      "\n",
      "3 x 2 = 6\n",
      "\n",
      "3 x 3 = 9\n",
      "\n",
      "3 x 4 = 12\n",
      "\n",
      "3 x 5 = 15\n",
      "\n",
      "3 x 6 = 18\n",
      "\n",
      "3 x 7 = 21\n",
      "\n",
      "3 x 8 = 24\n",
      "\n",
      "3 x 9 = 27\n",
      "\n",
      "++++4단++++\n",
      "4 x 1 = 4\n",
      "\n",
      "4 x 2 = 8\n",
      "\n",
      "4 x 3 = 12\n",
      "\n",
      "4 x 4 = 16\n",
      "\n",
      "4 x 5 = 20\n",
      "\n",
      "4 x 6 = 24\n",
      "\n",
      "4 x 7 = 28\n",
      "\n",
      "4 x 8 = 32\n",
      "\n",
      "4 x 9 = 36\n",
      "\n",
      "++++5단++++\n",
      "5 x 1 = 5\n",
      "\n",
      "5 x 2 = 10\n",
      "\n",
      "5 x 3 = 15\n",
      "\n",
      "5 x 4 = 20\n",
      "\n",
      "5 x 5 = 25\n",
      "\n",
      "5 x 6 = 30\n",
      "\n",
      "5 x 7 = 35\n",
      "\n",
      "5 x 8 = 40\n",
      "\n",
      "5 x 9 = 45\n",
      "\n",
      "++++6단++++\n",
      "6 x 1 = 6\n",
      "\n",
      "6 x 2 = 12\n",
      "\n",
      "6 x 3 = 18\n",
      "\n",
      "6 x 4 = 24\n",
      "\n",
      "6 x 5 = 30\n",
      "\n",
      "6 x 6 = 36\n",
      "\n",
      "6 x 7 = 42\n",
      "\n",
      "6 x 8 = 48\n",
      "\n",
      "6 x 9 = 54\n",
      "\n",
      "++++7단++++\n",
      "7 x 1 = 7\n",
      "\n",
      "7 x 2 = 14\n",
      "\n",
      "7 x 3 = 21\n",
      "\n",
      "7 x 4 = 28\n",
      "\n",
      "7 x 5 = 35\n",
      "\n",
      "7 x 6 = 42\n",
      "\n",
      "7 x 7 = 49\n",
      "\n",
      "7 x 8 = 56\n",
      "\n",
      "7 x 9 = 63\n",
      "\n",
      "++++8단++++\n",
      "8 x 1 = 8\n",
      "\n",
      "8 x 2 = 16\n",
      "\n",
      "8 x 3 = 24\n",
      "\n",
      "8 x 4 = 32\n",
      "\n",
      "8 x 5 = 40\n",
      "\n",
      "8 x 6 = 48\n",
      "\n",
      "8 x 7 = 56\n",
      "\n",
      "8 x 8 = 64\n",
      "\n",
      "8 x 9 = 72\n",
      "\n",
      "++++9단++++\n",
      "9 x 1 = 9\n",
      "\n",
      "9 x 2 = 18\n",
      "\n",
      "9 x 3 = 27\n",
      "\n",
      "9 x 4 = 36\n",
      "\n",
      "9 x 5 = 45\n",
      "\n",
      "9 x 6 = 54\n",
      "\n",
      "9 x 7 = 63\n",
      "\n",
      "9 x 8 = 72\n",
      "\n",
      "9 x 9 = 81\n",
      "\n"
     ]
    }
   ],
   "source": [
    "for i in range(2,10):\n",
    "    print(f\"{str(i)+'단':+^10}\")\n",
    "    for j in range(1,10):\n",
    "        print(f\"{i} x {j} = {i * j}\")\n",
    "        print()"
   ]
  },
  {
   "cell_type": "markdown",
   "id": "b414da29-51f1-4b88-b6d0-97b6c6e7a053",
   "metadata": {},
   "source": [
    "## 리스트 컴프리헨션"
   ]
  },
  {
   "cell_type": "code",
   "execution_count": 32,
   "id": "eb261dc4-ee47-44ec-bd07-c05a4cabd847",
   "metadata": {},
   "outputs": [
    {
     "name": "stdout",
     "output_type": "stream",
     "text": [
      "[1, 4, 9, 16, 25, 36, 49, 64, 81]\n"
     ]
    }
   ],
   "source": [
    "# 일반적\n",
    "a = [1,2,3,4,5,6,7,8,9]\n",
    "result =[]\n",
    "for num in a:\n",
    "    result.append(num**2)\n",
    "print(result)"
   ]
  },
  {
   "cell_type": "code",
   "execution_count": 33,
   "id": "81c5b574-b647-413f-b8a3-570d0af3d4dc",
   "metadata": {},
   "outputs": [
    {
     "name": "stdout",
     "output_type": "stream",
     "text": [
      "[1, 8, 27, 64, 125, 216, 343, 512, 729]\n"
     ]
    }
   ],
   "source": [
    "result2 = [num**3 for num in a] #리스트 컴프리헨션 (for 기준으로 왼쪽은 리턴값관련, 오른쪽은 for문 관련)\n",
    "print(result2)"
   ]
  },
  {
   "cell_type": "code",
   "execution_count": 36,
   "id": "f7f34784-4006-4265-9333-520b91e15e83",
   "metadata": {},
   "outputs": [
    {
     "name": "stdout",
     "output_type": "stream",
     "text": [
      "[8, 64, 216, 512]\n"
     ]
    }
   ],
   "source": [
    "result3 = [num**3 for num in a if num%2 ==0]\n",
    "print(result3)"
   ]
  },
  {
   "cell_type": "code",
   "execution_count": 39,
   "id": "31e51287-f02e-410b-90f0-ff1b53624f62",
   "metadata": {},
   "outputs": [
    {
     "name": "stdout",
     "output_type": "stream",
     "text": [
      "[1, 8, 9, 64, 25, 216, 49, 512, 81]\n"
     ]
    }
   ],
   "source": [
    "result4 = [num**3 if num%2 ==0 else num**2 for num in a]\n",
    "print(result4)"
   ]
  },
  {
   "cell_type": "markdown",
   "id": "3ac2fdec-65b1-4bac-8981-3ca8169a6905",
   "metadata": {},
   "source": [
    "# 함수 "
   ]
  },
  {
   "cell_type": "code",
   "execution_count": 10,
   "id": "be63f0da-5587-4287-93a3-565e75976056",
   "metadata": {},
   "outputs": [],
   "source": [
    "def add(a,b):  #def는 함수를 만드는 명령어 \n",
    "    print(f'입력하신 {a}와 {b}를 더하면 {a+b}입니다.')\n",
    "    return a+b"
   ]
  },
  {
   "cell_type": "code",
   "execution_count": 13,
   "id": "9bec0aa9-cfd5-4c8e-a57a-f61ebeb5b5ad",
   "metadata": {},
   "outputs": [
    {
     "name": "stdout",
     "output_type": "stream",
     "text": [
      "입력하신 3와 4를 더하면 7입니다.\n"
     ]
    },
    {
     "data": {
      "text/plain": [
       "7"
      ]
     },
     "execution_count": 13,
     "metadata": {},
     "output_type": "execute_result"
    }
   ],
   "source": [
    "add(3,4)"
   ]
  },
  {
   "cell_type": "code",
   "execution_count": 12,
   "id": "cf050660-58c1-48df-8425-42de533ca7d2",
   "metadata": {},
   "outputs": [
    {
     "name": "stdout",
     "output_type": "stream",
     "text": [
      "입력하신 77와 23를 더하면 100입니다.\n"
     ]
    },
    {
     "data": {
      "text/plain": [
       "100"
      ]
     },
     "execution_count": 12,
     "metadata": {},
     "output_type": "execute_result"
    }
   ],
   "source": [
    "add(77,23)"
   ]
  },
  {
   "cell_type": "code",
   "execution_count": 11,
   "id": "22207cd2-4d08-4506-b3fc-969096af57c2",
   "metadata": {},
   "outputs": [
    {
     "name": "stdout",
     "output_type": "stream",
     "text": [
      "입력하신 7와 8를 더하면 15입니다.\n",
      "15\n"
     ]
    }
   ],
   "source": [
    "c = add(7,8)\n",
    "print(c)"
   ]
  },
  {
   "cell_type": "code",
   "execution_count": 5,
   "id": "87dd9ee1-3555-480a-ac32-49a661542e08",
   "metadata": {},
   "outputs": [],
   "source": [
    "def world():\n",
    "    print('Hello world')\n",
    "    return 'say'"
   ]
  },
  {
   "cell_type": "code",
   "execution_count": 6,
   "id": "ccca11bb-c0ac-481f-acf3-926dbf10f903",
   "metadata": {},
   "outputs": [
    {
     "name": "stdout",
     "output_type": "stream",
     "text": [
      "Hello world\n"
     ]
    },
    {
     "data": {
      "text/plain": [
       "'say'"
      ]
     },
     "execution_count": 6,
     "metadata": {},
     "output_type": "execute_result"
    }
   ],
   "source": [
    "world()"
   ]
  },
  {
   "cell_type": "code",
   "execution_count": 7,
   "id": "b1c15375-3500-4057-be4c-8c02a946f07c",
   "metadata": {},
   "outputs": [
    {
     "name": "stdout",
     "output_type": "stream",
     "text": [
      "Hello world\n",
      "say\n"
     ]
    }
   ],
   "source": [
    "w = world()\n",
    "print(w)"
   ]
  },
  {
   "cell_type": "code",
   "execution_count": 8,
   "id": "e9fdb639-4ba7-4019-9d5a-448cfbca7bdf",
   "metadata": {},
   "outputs": [],
   "source": [
    "# 매개변수 파라미터를 지정하여 호출하기\n",
    "def sub(b = 4,a = 7):\n",
    "    return a - b "
   ]
  },
  {
   "cell_type": "code",
   "execution_count": 10,
   "id": "d1802959-8c7d-4523-becc-59dd7f8bc1e6",
   "metadata": {},
   "outputs": [
    {
     "name": "stdout",
     "output_type": "stream",
     "text": [
      "13\n"
     ]
    }
   ],
   "source": [
    "result = sub(7,20)\n",
    "print(result)"
   ]
  },
  {
   "cell_type": "code",
   "execution_count": 30,
   "id": "a4cff7fc-ebd6-4c60-9ab3-ef7725a8c2a1",
   "metadata": {},
   "outputs": [],
   "source": [
    "# 여러개의 입력값을 받는 함수\n",
    "def many(*args):\n",
    "    result = 0\n",
    "    print(type(args),args)\n",
    "    for v in args:\n",
    "        result += v\n",
    "    return result"
   ]
  },
  {
   "cell_type": "code",
   "execution_count": 14,
   "id": "8b3a3a4b-600c-4e2c-b407-9bcdd54e6af8",
   "metadata": {},
   "outputs": [
    {
     "name": "stdout",
     "output_type": "stream",
     "text": [
      "<class 'tuple'> ()\n"
     ]
    },
    {
     "data": {
      "text/plain": [
       "0"
      ]
     },
     "execution_count": 14,
     "metadata": {},
     "output_type": "execute_result"
    }
   ],
   "source": [
    "many()"
   ]
  },
  {
   "cell_type": "code",
   "execution_count": 4,
   "id": "f5da2535-d4a9-43bd-a4e7-1e7ac8276cb8",
   "metadata": {},
   "outputs": [
    {
     "name": "stdout",
     "output_type": "stream",
     "text": [
      "<class 'tuple'> (3, 4)\n"
     ]
    },
    {
     "data": {
      "text/plain": [
       "12"
      ]
     },
     "execution_count": 4,
     "metadata": {},
     "output_type": "execute_result"
    }
   ],
   "source": [
    "def manymany(choice,*args):\n",
    "    print(type(args),args)\n",
    "    if choice == 'add':\n",
    "        result = 0\n",
    "        for v in args:\n",
    "            result += v\n",
    "    if choice == 'mul':\n",
    "        result = 1\n",
    "        for v in args:\n",
    "            result *= v\n",
    "    return result\n",
    "manymany('mul',3,4)"
   ]
  },
  {
   "cell_type": "code",
   "execution_count": 5,
   "id": "a9b769cb-b5e4-4094-9f4b-cf27ef605f18",
   "metadata": {},
   "outputs": [
    {
     "name": "stdout",
     "output_type": "stream",
     "text": [
      "<class 'tuple'> (1, 2, 3, 4, 5, 6)\n",
      "<class 'tuple'> (4, 5, 6, 7, 8)\n",
      "21\n",
      "6720\n"
     ]
    }
   ],
   "source": [
    "tp = 1,2,3,4,5,6\n",
    "lt = [4,5,6,7,8]\n",
    "result1 = manymany('add',*tp)\n",
    "result2 = manymany('mul',*lt)\n",
    "print(result1)\n",
    "print(result2)"
   ]
  },
  {
   "cell_type": "code",
   "execution_count": 7,
   "id": "8089d3be-aad1-4506-8bb2-59cc5a214e88",
   "metadata": {},
   "outputs": [],
   "source": [
    "def new_many(*args):\n",
    "    print(type(args),args[0],args[1])\n",
    "    if args[0] == 'add':\n",
    "        result = 0\n",
    "        for v in args[1:]:\n",
    "            result += v\n",
    "    if args[0] == 'mul':\n",
    "        result = 1\n",
    "        for v in args[1:]:\n",
    "            result *= v\n",
    "    return result"
   ]
  },
  {
   "cell_type": "code",
   "execution_count": 8,
   "id": "b3d584ea-2917-42a2-8ad2-03cd61c42917",
   "metadata": {},
   "outputs": [
    {
     "name": "stdout",
     "output_type": "stream",
     "text": [
      "<class 'tuple'> add 1\n"
     ]
    },
    {
     "data": {
      "text/plain": [
       "10"
      ]
     },
     "execution_count": 8,
     "metadata": {},
     "output_type": "execute_result"
    }
   ],
   "source": [
    "ar = 'add',1,2,3,4\n",
    "new_many(*ar)"
   ]
  },
  {
   "cell_type": "code",
   "execution_count": 20,
   "id": "a5bf1210-fa3f-478e-9c69-46f2ee4b47c0",
   "metadata": {},
   "outputs": [
    {
     "name": "stdout",
     "output_type": "stream",
     "text": [
      "<class 'tuple'> mul 3\n"
     ]
    },
    {
     "data": {
      "text/plain": [
       "2520"
      ]
     },
     "execution_count": 20,
     "metadata": {},
     "output_type": "execute_result"
    }
   ],
   "source": [
    "ar2 = 'mul', 3,4,5,6,7\n",
    "new_many(*ar2)"
   ]
  },
  {
   "cell_type": "code",
   "execution_count": 10,
   "id": "a2eb3f6e-37e3-4ff7-8e4c-225308274003",
   "metadata": {},
   "outputs": [],
   "source": [
    "def new_many2(*args):\n",
    "    print(type(args),args[0],args[1])\n",
    "    if args[0] == 'add':\n",
    "        result = 0\n",
    "        for v in args[1:]:\n",
    "            result += v\n",
    "    if args[0] == 'mul':\n",
    "        result = 1\n",
    "        for v in args[1:]:\n",
    "            result *= v\n",
    "    return result"
   ]
  },
  {
   "cell_type": "code",
   "execution_count": 13,
   "id": "015b61d4-af9e-4fcf-80cc-b1eaaae2d663",
   "metadata": {},
   "outputs": [
    {
     "name": "stdout",
     "output_type": "stream",
     "text": [
      "<class 'tuple'> add 1\n"
     ]
    },
    {
     "data": {
      "text/plain": [
       "10"
      ]
     },
     "execution_count": 13,
     "metadata": {},
     "output_type": "execute_result"
    }
   ],
   "source": [
    "ar = 'add',1,2,3,4\n",
    "new_many2(ar2[0],ar2[1],ar2[2],ar2[3],ar2[4]) #별표를 제거하할때는 어떻게 해야할까? "
   ]
  },
  {
   "cell_type": "code",
   "execution_count": 18,
   "id": "c545a19e-b7aa-43e5-9c7a-4fe544127a14",
   "metadata": {},
   "outputs": [],
   "source": [
    "def dic_star(**kwargs):\n",
    "    print(type(kwargs),kwargs)"
   ]
  },
  {
   "cell_type": "code",
   "execution_count": 19,
   "id": "6d11c01f-7281-4472-a5e3-978b2de173ca",
   "metadata": {},
   "outputs": [
    {
     "name": "stdout",
     "output_type": "stream",
     "text": [
      "<class 'dict'> {'a': 1, 'b': 2, 'c': 3}\n"
     ]
    }
   ],
   "source": [
    "dic_star(a=1,b=2,c=3)"
   ]
  },
  {
   "cell_type": "code",
   "execution_count": 33,
   "id": "868c57e2-165c-42a2-9098-620a6d6eed4d",
   "metadata": {},
   "outputs": [],
   "source": [
    "#함수의 리턴 값 \n",
    "def mix(a,b):\n",
    "    \"\"\"이 함수는 두개의 인지를 받아서\n",
    "    3개의 결과값을 출력합니다.\n",
    "    결과는 덧셈, 곱셈과 10을 곱한값을 튜플로 묶어 출력합니다.\"\"\"\n",
    "    print(a,b)\n",
    "    return a+b,a*b,a*10+b*10"
   ]
  },
  {
   "cell_type": "code",
   "execution_count": 26,
   "id": "055ff0df-e5a5-48ae-bb7d-1d08679bb1ad",
   "metadata": {},
   "outputs": [
    {
     "name": "stdout",
     "output_type": "stream",
     "text": [
      "5 6\n",
      "7 8\n",
      "(11, 30, 110) <class 'tuple'>\n",
      "15 56 150\n"
     ]
    }
   ],
   "source": [
    "result = mix(5,6)\n",
    "aa,bb,cc = mix(7,8)\n",
    "print(result,type(result))\n",
    "print(aa,bb,cc)"
   ]
  },
  {
   "cell_type": "code",
   "execution_count": 34,
   "id": "396387e6-b01b-422b-b29d-d371c3891f96",
   "metadata": {},
   "outputs": [
    {
     "name": "stdout",
     "output_type": "stream",
     "text": [
      "이 함수는 두개의 인지를 받아서\n",
      "    3개의 결과값을 출력합니다.\n",
      "    결과는 덧셈, 곱셈과 10을 곱한값을 튜플로 묶어 출력합니다.\n"
     ]
    }
   ],
   "source": [
    "print(mix.__doc__)"
   ]
  },
  {
   "cell_type": "code",
   "execution_count": 7,
   "id": "1d821be4-98de-49dc-aa5a-b1c6bea85acb",
   "metadata": {},
   "outputs": [
    {
     "name": "stdout",
     "output_type": "stream",
     "text": [
      "11\n",
      "1\n"
     ]
    }
   ],
   "source": [
    "#함수와 변수\n",
    "a = 1 \n",
    "def var_test(a):\n",
    "    a = a + 10\n",
    "    print(a)\n",
    "var_test(a)\n",
    "print(a)"
   ]
  },
  {
   "cell_type": "code",
   "execution_count": 8,
   "id": "6b6a83e3-e831-447d-a335-c4ad633e8a21",
   "metadata": {},
   "outputs": [
    {
     "name": "stdout",
     "output_type": "stream",
     "text": [
      "11\n",
      "1\n"
     ]
    }
   ],
   "source": [
    "var_test(a)\n",
    "print(a)"
   ]
  },
  {
   "cell_type": "code",
   "execution_count": 5,
   "id": "249e946a-d7ee-419e-a3ce-2631ae2aeb94",
   "metadata": {},
   "outputs": [
    {
     "name": "stdout",
     "output_type": "stream",
     "text": [
      "2\n"
     ]
    }
   ],
   "source": [
    "b = 1\n",
    "def var_test2(b):\n",
    "    b = b + 1 \n",
    "    return b\n",
    "b = var_test2(b)\n",
    "print(b)"
   ]
  },
  {
   "cell_type": "code",
   "execution_count": 6,
   "id": "0614a332-0423-4bcb-be50-c6e07b43a74e",
   "metadata": {},
   "outputs": [
    {
     "name": "stdout",
     "output_type": "stream",
     "text": [
      "2\n",
      "2\n"
     ]
    }
   ],
   "source": [
    "# global - 비권장음로 잘 안씀 \n",
    "a = 1\n",
    "def var_test3():\n",
    "    \"\"\"global 함수는 자제하고 return값으로 사용하길 권장\"\"\"\n",
    "    global a\n",
    "    a = a + 1\n",
    "    print(a)\n",
    "var_test3()\n",
    "print(a)"
   ]
  },
  {
   "cell_type": "code",
   "execution_count": 2,
   "id": "8dbdd554-f48c-4312-9c34-594ff87d5a4b",
   "metadata": {},
   "outputs": [
    {
     "name": "stdout",
     "output_type": "stream",
     "text": [
      "7\n"
     ]
    }
   ],
   "source": [
    "#람다함수(익명함수)\n",
    "add = lambda a, b: a + b\n",
    "print(add(3,4))"
   ]
  },
  {
   "cell_type": "code",
   "execution_count": 3,
   "id": "04d181e5-b40b-447a-b3c3-8ad1b4f63f32",
   "metadata": {},
   "outputs": [
    {
     "name": "stdout",
     "output_type": "stream",
     "text": [
      "12\n"
     ]
    }
   ],
   "source": [
    "mul = lambda a, b: a * b\n",
    "print(mul(3,4))"
   ]
  },
  {
   "cell_type": "code",
   "execution_count": 5,
   "id": "f5bd7f44-2c60-45a5-94d0-d25f3fd27fc7",
   "metadata": {},
   "outputs": [
    {
     "name": "stdout",
     "output_type": "stream",
     "text": [
      "[1, 4, 9, 16, 25]\n"
     ]
    }
   ],
   "source": [
    "#예제\n",
    "'''def test(v):\n",
    "    v**2''' \n",
    "\n",
    "#예제\n",
    "arr = list(range(1,6))\n",
    "sq = list(map(lambda a : a**2, arr))\n",
    "print(sq)"
   ]
  },
  {
   "cell_type": "code",
   "execution_count": null,
   "id": "618e68b8-be08-49d2-973a-1d537866c5bf",
   "metadata": {},
   "outputs": [],
   "source": []
  }
 ],
 "metadata": {
  "kernelspec": {
   "display_name": "Python 3 (ipykernel)",
   "language": "python",
   "name": "python3"
  },
  "language_info": {
   "codemirror_mode": {
    "name": "ipython",
    "version": 3
   },
   "file_extension": ".py",
   "mimetype": "text/x-python",
   "name": "python",
   "nbconvert_exporter": "python",
   "pygments_lexer": "ipython3",
   "version": "3.9.10"
  }
 },
 "nbformat": 4,
 "nbformat_minor": 5
}
