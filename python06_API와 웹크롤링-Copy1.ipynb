{
 "cells": [
  {
   "cell_type": "markdown",
   "id": "0d094e44-bed6-4d60-a4fe-b62bafe1f69f",
   "metadata": {},
   "source": [
    "# API 및 크롤링"
   ]
  },
  {
   "cell_type": "code",
   "execution_count": 1,
   "id": "fa693041-2872-4634-b2c3-1f111d2f1528",
   "metadata": {},
   "outputs": [
    {
     "name": "stdout",
     "output_type": "stream",
     "text": [
      "Requirement already satisfied: squarify in /opt/conda/lib/python3.11/site-packages (0.4.4)\n"
     ]
    }
   ],
   "source": [
    "#!pip list\n",
    "!pip install squarify"
   ]
  },
  {
   "cell_type": "markdown",
   "id": "d1b5b948-a471-4c90-aa70-8dccb45d950a",
   "metadata": {},
   "source": [
    "## 환율정보"
   ]
  },
  {
   "cell_type": "code",
   "execution_count": 10,
   "id": "b33ae021-1dd1-42dc-8486-03ceaf3bcf82",
   "metadata": {},
   "outputs": [
    {
     "name": "stderr",
     "output_type": "stream",
     "text": [
      " 96%|█████████▌| 22/23 [00:11<00:00,  1.97it/s]"
     ]
    },
    {
     "name": "stdout",
     "output_type": "stream",
     "text": [
      "미국의 원달러 환율은 1,433.2입니다.\n"
     ]
    },
    {
     "name": "stderr",
     "output_type": "stream",
     "text": [
      "100%|██████████| 23/23 [00:11<00:00,  1.97it/s]\n"
     ]
    }
   ],
   "source": [
    "import requests as req\n",
    "from tqdm import tqdm #시각화\n",
    "import time as t\n",
    "url = 'https://www.koreaexim.go.kr/site/program/financial/exchangeJSON?authkey=ciy2m90S2IZQnhhGYX3vfFcsqe0ezmxV&data=AP01'\n",
    "gdata = req.get(url).json()\n",
    "for v in tqdm(gdata):\n",
    "    if '미국' in v['cur_nm']:\n",
    "        dwon = v['deal_bas_r']\n",
    "        print(f'미국의 원달러 환율은 {dwon}입니다.')\n",
    "    t.sleep(0.5) #테스트용 지연"
   ]
  },
  {
   "cell_type": "markdown",
   "id": "77449d29-cfff-4931-ada8-dc11a118c263",
   "metadata": {},
   "source": [
    "## 비트코인 정보"
   ]
  },
  {
   "cell_type": "code",
   "execution_count": 16,
   "id": "8ad329e9-a1f7-4767-9529-a5cd8f68d1c6",
   "metadata": {},
   "outputs": [
    {
     "name": "stdout",
     "output_type": "stream",
     "text": [
      "최대가:141077000.0, 최소가:136000000.0, 시작가:140729000.0, 변화폭:5077000.0\n",
      "상승장입니다.\n"
     ]
    }
   ],
   "source": [
    "import requests as req\n",
    "url = 'https://api.bithumb.com/public/ticker/ALL_KRW'\n",
    "gdata = req.get(url).json()\n",
    "btc = gdata['data']['BTC']\n",
    "maxp = float(btc['max_price']) #최대가\n",
    "minp = float(btc['min_price']) #최소가\n",
    "openp = float(btc['opening_price']) #시작가\n",
    "bandp = float(maxp) - float(minp) # 변화폭\n",
    "print(f'최대가:{maxp}, 최소가:{minp}, 시작가:{openp}, 변화폭:{bandp}')\n",
    "if (openp + bandp) > maxp:\n",
    "    print('상승장입니다.')\n",
    "else:\n",
    "    print('하강장입니다.')"
   ]
  },
  {
   "cell_type": "markdown",
   "id": "135da3fa-6262-4038-a710-8d8180f66fb8",
   "metadata": {},
   "source": [
    "## 미세먼지정보\n"
   ]
  },
  {
   "cell_type": "code",
   "execution_count": 20,
   "id": "94d3d696-26c4-4096-9a43-a32830826da6",
   "metadata": {},
   "outputs": [
    {
     "name": "stdout",
     "output_type": "stream",
     "text": [
      "Collecting python-dotenv\n",
      "  Downloading python_dotenv-1.0.1-py3-none-any.whl.metadata (23 kB)\n",
      "Downloading python_dotenv-1.0.1-py3-none-any.whl (19 kB)\n",
      "Installing collected packages: python-dotenv\n",
      "Successfully installed python-dotenv-1.0.1\n"
     ]
    }
   ],
   "source": [
    "#!pip install --upgrade pip\n",
    "!pip install python-dotenv"
   ]
  },
  {
   "cell_type": "code",
   "execution_count": 2,
   "id": "e2e6d3be-dfae-40ab-a84b-55b78ba8fb73",
   "metadata": {},
   "outputs": [
    {
     "name": "stdin",
     "output_type": "stream",
     "text": [
      "원하는 지역이름을 적어주세요 광안동\n"
     ]
    },
    {
     "name": "stdout",
     "output_type": "stream",
     "text": [
      "==2024121009==\n",
      "광안동 지역\n",
      "미세먼지: 18.0\n",
      "초미세먼지: 17.0\n",
      "==============\n",
      "==2024121008==\n",
      "광안동 지역\n",
      "미세먼지: 23.0\n",
      "초미세먼지: 16.0\n",
      "==============\n",
      "==2024121007==\n",
      "광안동 지역\n",
      "미세먼지: 21.0\n",
      "초미세먼지: 19.0\n",
      "==============\n",
      "==2024121006==\n",
      "광안동 지역\n",
      "미세먼지: 19.0\n",
      "초미세먼지: 20.0\n",
      "==============\n",
      "==2024121005==\n",
      "광안동 지역\n",
      "미세먼지: 21.0\n",
      "초미세먼지: 23.0\n",
      "==============\n",
      "==2024121004==\n",
      "광안동 지역\n",
      "미세먼지: 24.0\n",
      "초미세먼지: 10.0\n",
      "==============\n"
     ]
    }
   ],
   "source": [
    "import requests as req # requests 라이브러리 임포트\n",
    "import os # OS 관련 작업을 위한 라이브러리\n",
    "from dotenv import load_dotenv # 환경 변수를 로드하기 위한 라이브러리\n",
    "load_dotenv() # .env 파일에서 환경 변수 로드\n",
    "key_ori = os.getenv('SER_KEY') # SER_KEY 환경 변수에서 API 키 불러오기\n",
    "key = req.utils.unquote(key_ori) # URL 인코딩된 키 디코딩\n",
    "#print(key)\n",
    "url = 'http://apis.data.go.kr/6260000/AirQualityInfoService/getAirQualityInfoClassifiedByStation' # OpenAPI URL 설정\n",
    "params = {'serviceKey':key,'pageNo':'1','numOfRows':200,'resultType':'json'} # 요청할 파라미터 설정\n",
    "response = req.get(url,params).json() # API에 GET 요청을 보내고 JSON 형태로 응답을 받기\n",
    "data = response['response']['body']['items']['item'] # API 응답에서 'item' 데이터를 'data' 변수에 저장\n",
    "inp = input('원하는 지역이름을 적어주세요') or '전포동' # 사용자로부터 지역 이름을 입력 받음. 기본값은 '전포동'\n",
    "if inp not in [s['site'] for s in data]: # 입력한 지역 이름이 'data'에 포함되어 있는지 확인\n",
    "    print('해당 지역 정보가 없습니다.') # 지역 정보가 없다면 출력\n",
    "else: \n",
    "    for v in data: # 입력한 지역에 해당하는 미세먼지 정보를 출력\n",
    "        if(v['site']==inp):  # 지역, 미세먼지, 초미세먼지 정보 출력\n",
    "            print(f\"=={v['controlnumber']}==\\n{inp} 지역\\n미세먼지: {v['pm10']}\\n초미세먼지: {v['pm25']}\\n{'=' * 14}\")"
   ]
  },
  {
   "cell_type": "markdown",
   "id": "37b3fa1e-e38c-46b0-8847-579cc1a9e437",
   "metadata": {},
   "source": [
    "## 네이버API 검색(뉴스) "
   ]
  },
  {
   "cell_type": "code",
   "execution_count": null,
   "id": "e7372b10-8a66-4d60-96a3-2f01d69ff6bf",
   "metadata": {},
   "outputs": [],
   "source": [
    "# 네이버 검색 API 예제 - 블로그 검색\n",
    "import os\n",
    "import sys\n",
    "import urllib.request\n",
    "import json\n",
    "from dotenv import load_dotenv\n",
    "load_dotenv()\n",
    "client_id = os.getenv(\"YOUR_CLIENT_ID\") \n",
    "#key = req.utils.unquote(client_id)\n",
    "client_secret = os.getenv(\"YOUR_CLIENT_SECRET\") \n",
    "#key = req.utils.unquote(client_secret) \n",
    "\n",
    "\n",
    "encText = urllib.parse.quote(\"속보\") #인코딩 중 \n",
    "url = \"https://openapi.naver.com/v1/search/blog?query=\" + encText # JSON 결과\n",
    "# url = \"https://openapi.naver.com/v1/search/blog.xml?query=\" + encText # XML 결과\n",
    "request = urllib.request.Request(url)\n",
    "request.add_header(\"X-Naver-Client-Id\",client_id)\n",
    "request.add_header(\"X-Naver-Client-Secret\",client_secret)\n",
    "response = urllib.request.urlopen(request)\n",
    "rescode = response.getcode()\n",
    "if(rescode==200):\n",
    "    response_body = response.read()\n",
    "    data = response_body.decode('utf-8')\n",
    "    jdata = json.loads(data)\n",
    "    result = jdata['items']\n",
    "    for r in result:\n",
    "        print('*' * 90)\n",
    "        print('제목:',r['title'])\n",
    "        print('LinK:',r['link'])\n",
    "        print('내용:',r['description'])\n",
    "        print()\n",
    "        \n",
    "else:\n",
    "    print(\"Error Code:\" + rescode)"
   ]
  },
  {
   "cell_type": "markdown",
   "id": "10cb8de7-8ec9-43ae-b8f3-199d99798ece",
   "metadata": {},
   "source": [
    "## 클롤링 네이버 주식 정보 "
   ]
  },
  {
   "cell_type": "code",
   "execution_count": 39,
   "id": "d55f8e4c-9db2-4916-a50c-cc9200711342",
   "metadata": {},
   "outputs": [
    {
     "name": "stdout",
     "output_type": "stream",
     "text": [
      "8) 삼성전자 - 현재가: 54,000\n",
      "9) SK하이닉스 - 현재가: 169,900\n",
      "10) LG에너지솔루션 - 현재가: 378,500\n",
      "11) 삼성바이오로직스 - 현재가: 957,000\n",
      "12) 현대차 - 현재가: 208,500\n",
      "16) 셀트리온 - 현재가: 184,100\n",
      "17) 기아 - 현재가: 96,500\n",
      "18) 삼성전자우 - 현재가: 45,650\n",
      "19) NAVER - 현재가: 215,000\n",
      "20) KB금융 - 현재가: 84,800\n",
      "24) 고려아연 - 현재가: 1,436,000\n",
      "25) 신한지주 - 현재가: 50,400\n",
      "26) 현대모비스 - 현재가: 248,000\n",
      "27) POSCO홀딩스 - 현재가: 270,500\n",
      "28) 삼성물산 - 현재가: 115,700\n",
      "32) HD현대중공업 - 현재가: 230,000\n",
      "33) 삼성생명 - 현재가: 101,600\n",
      "34) 카카오 - 현재가: 44,350\n",
      "35) 메리츠금융지주 - 현재가: 101,800\n",
      "36) LG화학 - 현재가: 262,000\n",
      "40) SK이노베이션 - 현재가: 117,600\n",
      "41) 삼성화재 - 현재가: 372,000\n",
      "42) 삼성SDI - 현재가: 248,500\n",
      "43) 하나금융지주 - 현재가: 58,900\n",
      "44) HMM - 현재가: 18,770\n",
      "48) 크래프톤 - 현재가: 314,500\n",
      "49) HD한국조선해양 - 현재가: 211,500\n",
      "50) KT&G - 현재가: 116,500\n",
      "51) LG전자 - 현재가: 85,300\n",
      "52) 한국전력 - 현재가: 21,400\n",
      "56) 한화에어로스페이스 - 현재가: 299,500\n",
      "57) HD현대일렉트릭 - 현재가: 363,500\n",
      "58) 포스코퓨처엠 - 현재가: 165,500\n",
      "59) SK텔레콤 - 현재가: 56,400\n",
      "60) LG - 현재가: 75,500\n",
      "64) 기업은행 - 현재가: 14,650\n",
      "65) 우리금융지주 - 현재가: 15,520\n",
      "66) 카카오뱅크 - 현재가: 23,950\n",
      "67) KT - 현재가: 44,400\n",
      "68) 두산에너빌리티 - 현재가: 17,390\n",
      "72) 삼성에스디에스 - 현재가: 136,600\n",
      "73) SK스퀘어 - 현재가: 77,100\n",
      "74) 한화오션 - 현재가: 33,200\n",
      "75) 삼성중공업 - 현재가: 11,150\n",
      "76) SK - 현재가: 130,900\n",
      "80) 유한양행 - 현재가: 117,100\n",
      "81) KODEX CD금리액티브(합성) - 현재가: 1,056,600\n",
      "82) 대한항공 - 현재가: 24,050\n",
      "83) 삼성전기 - 현재가: 118,200\n",
      "84) 현대글로비스 - 현재가: 112,400\n"
     ]
    }
   ],
   "source": [
    "import requests as req\n",
    "from bs4 import BeautifulSoup as bs\n",
    "\n",
    "url = 'https://finance.naver.com/sise/sise_market_sum.naver'\n",
    "web = req.get(url)\n",
    "\n",
    "#html기본\n",
    "#html = web.text\n",
    "#print(html.find('삼성'))\n",
    "#print(html[35073:35077])\n",
    "\n",
    "# soup사용\n",
    "soup = bs(web.content,'html.parser')\n",
    "rows = soup.find_all('tr')\n",
    "#contents = soup.find_all(class_=\"type_2\")\n",
    "#contents = soup.find_all(class_=\"tltle\")\n",
    "#contents = soup.find_all(class_=\"number\")\n",
    "for i, row in enumerate(rows,1):\n",
    "    title = row.find(class_=\"tltle\")\n",
    "    number = row.find(class_=\"number\")\n",
    "    if title and number:\n",
    "        print(f'{i}) {title.text} - 현재가: {number.text}')\n",
    "#print(contents)"
   ]
  },
  {
   "cell_type": "markdown",
   "id": "1c66726b-f2c8-46af-99a9-4ba68bdc14e0",
   "metadata": {},
   "source": [
    "## 크롤링 멜론 순위"
   ]
  },
  {
   "cell_type": "code",
   "execution_count": 6,
   "id": "06072ba3-8813-495b-a1ad-51f0e87a8f45",
   "metadata": {},
   "outputs": [
    {
     "name": "stdout",
     "output_type": "stream",
     "text": [
      "2024.12.12 09:00\n",
      "1 위 HOME SWEET HOME (feat. 태양, 대성) / G-DRAGON\n",
      "2 위 APT. / 로제 (ROSÉ), Bruno Mars\n",
      "3 위 Whiplash / aespa\n",
      "4 위 나는 반딧불 / 황가람\n",
      "5 위 POWER / G-DRAGON\n",
      "6 위 toxic till the end / 로제 (ROSÉ)\n",
      "7 위 HAPPY / DAY6 (데이식스)\n",
      "8 위 첫 눈 / EXO\n",
      "9 위 UP (KARINA Solo) / aespa\n",
      "10 위 내 이름 맑음 / QWER\n",
      "11 위 내게 사랑이 뭐냐고 물어본다면 / 로이킴\n",
      "12 위 너와의 모든 지금 / 재쓰비 (JAESSBEE)\n",
      "13 위 Welcome to the Show / DAY6 (데이식스)\n",
      "14 위 Mantra / 제니 (JENNIE)\n",
      "15 위 Supernova / aespa\n",
      "16 위 소나기 / 이클립스 (ECLIPSE)\n",
      "17 위 한 페이지가 될 수 있게 / DAY6 (데이식스)\n",
      "18 위 Drowning / WOODZ\n",
      "19 위 사랑은 늘 도망가 / 임영웅\n",
      "20 위 천상연 / 이창섭\n",
      "21 위 어떻게 이별까지 사랑하겠어, 널 사랑하는 거지 / AKMU (악뮤)\n",
      "22 위 슬픈 초대장 / 순순희(지환)\n",
      "23 위 number one girl / 로제 (ROSÉ)\n",
      "24 위 고민중독 / QWER\n",
      "25 위 Pump Up The Volume! / PLAVE\n",
      "26 위 예뻤어 / DAY6 (데이식스)\n",
      "27 위 WAY 4 LUV / PLAVE\n",
      "28 위 우리들의 블루스 / 임영웅\n",
      "29 위 Love wins all / 아이유\n",
      "30 위 온기 / 임영웅\n",
      "31 위 Supersonic / 프로미스나인\n",
      "32 위 Home / 임영웅\n",
      "33 위 How Sweet / NewJeans\n",
      "34 위 모래 알갱이 / 임영웅\n",
      "35 위 All I Want for Christmas Is You / Mariah Carey\n",
      "36 위 다시 만날 수 있을까 / 임영웅\n",
      "37 위 첫 만남은 계획대로 되지 않아 / TWS (투어스)\n",
      "38 위 Small girl (feat. 도경수(D.O.)) / 이영지\n",
      "39 위 이제 나만 믿어요 / 임영웅\n",
      "40 위 우리 영화 / PLAVE\n",
      "41 위 녹아내려요 / DAY6 (데이식스)\n",
      "42 위 Igloo / KISS OF LIFE\n",
      "43 위 나는 아픈 건 딱 질색이니까 / (여자)아이들\n",
      "44 위 너의 모든 순간 / 성시경\n",
      "45 위 무지개 / 임영웅\n",
      "46 위 Do or Die / 임영웅\n",
      "47 위 Ditto / NewJeans\n",
      "48 위 From / PLAVE\n",
      "49 위 London Boy / 임영웅\n",
      "50 위 그대만 있다면 (여름날 우리 X 너드커넥션 (Nerd Connection)) / 너드커넥션 (Nerd Connection)\n",
      "51 위 에피소드 / 이무진\n",
      "52 위 눈이 오잖아(Feat.헤이즈) / 이무진\n",
      "53 위 Polaroid / 임영웅\n",
      "54 위 인생찬가 / 임영웅\n",
      "55 위 비의 랩소디 / 임재현\n",
      "56 위 청춘만화 / 이무진\n",
      "57 위 Watch Me Woo! / PLAVE\n",
      "58 위 무제(無題) (Untitled, 2014) / G-DRAGON\n",
      "59 위 DRIP / BABYMONSTER\n",
      "60 위 Armageddon / aespa\n",
      "61 위 헤어지자 말해요 / 박재정\n",
      "62 위 연애편지 / 임영웅\n",
      "63 위 Santa Tell Me / Ariana Grande\n",
      "64 위 Magnetic / 아일릿(ILLIT)\n",
      "65 위 클락션 (Klaxon) / (여자)아이들\n",
      "66 위 미안해 미워해 사랑해 / Crush\n",
      "67 위 Supernatural / NewJeans\n",
      "68 위 Merry PLLIstmas / PLAVE\n",
      "69 위 버추얼 아이돌 / PLAVE\n",
      "70 위 Love 119 / RIIZE\n",
      "71 위 인사 / 범진\n",
      "72 위 주저하는 연인들을 위해 / 잔나비\n",
      "73 위 미리 메리 크리스마스 (Feat. 천둥 Of MBLAQ) / 아이유\n",
      "74 위 다정히 내 이름을 부르면 / 경서예지, 전건호\n",
      "75 위 모든 날, 모든 순간 (Every day, Every Moment) / 폴킴\n",
      "76 위 Sticky / KISS OF LIFE\n",
      "77 위 보금자리 / 임영웅\n",
      "78 위 청혼하지 않을 이유를 못 찾았어 / 이무진\n",
      "79 위 Seven (feat. Latto) - Clean Ver. / 정국\n",
      "80 위 Congratulations / DAY6 (데이식스)\n",
      "81 위 네모네모 / YENA (최예나)\n",
      "82 위 Hype Boy / NewJeans\n",
      "83 위 Snowman / Sia\n",
      "84 위 To. X / 태연 (TAEYEON)\n",
      "85 위 I AM / IVE (아이브)\n",
      "86 위 SPOT! (feat. JENNIE) / 지코 (ZICO)\n",
      "87 위 해야 (HEYA) / IVE (아이브)\n",
      "88 위 크리스마스니까 / 성시경, 박효신, 이석훈, 서인국, VIXX (빅스)\n",
      "89 위 사랑인가 봐 / 멜로망스\n",
      "90 위 Cherish (My Love) / 아일릿(ILLIT)\n",
      "91 위 Bubble Gum / NewJeans\n",
      "92 위 Letter To Myself / 태연 (TAEYEON)\n",
      "93 위 Boom Boom Bass / RIIZE\n",
      "94 위 사건의 지평선 / 윤하 (YOUNHA)\n",
      "95 위 취중고백 / 김민석\n",
      "96 위 사막에서 꽃을 피우듯 / 우디 (Woody)\n",
      "97 위 Drama / aespa\n",
      "98 위 봄날 / 방탄소년단\n",
      "99 위 Dynamite / 방탄소년단\n",
      "100 위 거짓말의 반대말만 할게요 / 이창섭\n"
     ]
    }
   ],
   "source": [
    "import requests as req\n",
    "from bs4 import BeautifulSoup as bs\n",
    "\n",
    "# 올바른 headers 딕셔너리 정의\n",
    "url = 'https://www.melon.com/chart/index.htm'\n",
    "headers = {\"User-Agent\": \"Mozilla/5.0 (Macintosh; Intel Mac OS X 10_15_7) AppleWebKit/605.1.15 (KHTML, like Gecko) Version/18.1.1 Safari/605.1.15\"}\n",
    "web = req.get(url, headers=headers)\n",
    "# BeautifulSoup을 이용해 HTML 파싱\n",
    "soup = bs(web.content, 'html.parser')\n",
    "day = soup.select_one('.year')\n",
    "hour = soup.select_one('.hour')\n",
    "# 노래 정보 추출\n",
    "rank = soup.select('.wrap_song_info span')\n",
    "title = soup.select('.wrap_song_info .rank01')\n",
    "artist= soup.select('.wrap_song_info .checkEllipsis')\n",
    "print(day.text, hour.text)\n",
    "for i, (t , a) in enumerate(zip(title, artist),1):\n",
    "    print(i,'위', t.text.strip(), '/', a.text.strip())"
   ]
  },
  {
   "cell_type": "markdown",
   "id": "eb3a9370-8c85-47fa-a169-59bbf3389823",
   "metadata": {},
   "source": [
    "## 크롤링 벅스 순위"
   ]
  },
  {
   "cell_type": "code",
   "execution_count": 2,
   "id": "e7ee6bf1-056a-4add-82b8-1f12cab23d1a",
   "metadata": {},
   "outputs": [
    {
     "name": "stdout",
     "output_type": "stream",
     "text": [
      "2024.12.12 00:26\n",
      "1위 toxic till the end - 로제(ROSÉ)\n",
      "2위 HOME SWEET HOME (feat. 태양, 대성) - G-DRAGON\n",
      "3위 Whiplash - aespa\n",
      "4위 APT. - 로제(ROSÉ)\n",
      "5위 너와의 모든 지금 - 로제(ROSÉ)\n",
      "6위 number one girl - 재쓰비 (JAESSBEE)\n",
      "7위 POWER - 로제(ROSÉ)\n",
      "8위 Drowning - G-DRAGON\n",
      "9위 나는 반딧불 - WOODZ\n",
      "10위 Mantra - 황가람\n",
      "11위 HAPPY - 제니 (JENNIE)\n",
      "12위 Letter To Myself - DAY6 (데이식스)\n",
      "13위 UP (KARINA Solo) - 태연 (TAEYEON)\n",
      "14위 Supernova - aespa\n",
      "15위 내 이름 맑음 - aespa\n",
      "16위 Igloo - QWER\n",
      "17위 사랑을 억지로 할 수 없잖아 - KISS OF LIFE\n",
      "18위 Welcome to the Show - 황치열\n",
      "19위 DRIP - DAY6 (데이식스)\n",
      "20위 첫 눈 - BABYMONSTER\n",
      "21위 내게 사랑이 뭐냐고 물어본다면 - EXO\n",
      "22위 한 페이지가 될 수 있게 - 로이킴\n",
      "23위 고민중독 - DAY6 (데이식스)\n",
      "24위 How Sweet - QWER\n",
      "25위 소나기 - NewJeans\n",
      "26위 All I Want for Christmas Is You - 이클립스 (ECLIPSE)\n",
      "27위 Supernatural - Mariah Carey(머라이어 캐리)\n",
      "28위 녹아내려요 - NewJeans\n",
      "29위 drinks or coffee - DAY6 (데이식스)\n",
      "30위 Armageddon - 로제(ROSÉ)\n"
     ]
    }
   ],
   "source": [
    "import requests as req\n",
    "from bs4 import BeautifulSoup as bs\n",
    "from datetime import datetime\n",
    "\n",
    "# 현재 시간 가져오기\n",
    "now = datetime.now()\n",
    "formatted_time = now.strftime(\"%Y.%m.%d %H:%M\")\n",
    "\n",
    "# 벅스 차트 URL과 헤더\n",
    "url = 'https://music.bugs.co.kr/chart?wl_ref=M_left_02_01'\n",
    "headers = {\"User-Agent\": \"Mozilla/5.0 (Macintosh; Intel Mac OS X 10_15_7) AppleWebKit/605.1.15 (KHTML, like Gecko) Version/18.1.1 Safari/605.1.15\"}\n",
    "\n",
    "# 요청 보내기\n",
    "web = req.get(url, headers=headers)\n",
    "\n",
    "# BeautifulSoup으로 HTML 파싱\n",
    "soup = bs(web.content, 'html.parser')\n",
    "\n",
    "# 곡명과 아티스트 정보 추출\n",
    "titles = soup.select('p.title a')\n",
    "artists = soup.select('p.artist a')\n",
    "\n",
    "# 결과 출력\n",
    "print(formatted_time)\n",
    "for i in range(30):  # 30위까지만 출력\n",
    "    title = titles[i].text.strip()\n",
    "    artist = artists[i].text.strip()\n",
    "    print(f\"{i + 1}위 {title} - {artist}\")"
   ]
  },
  {
   "cell_type": "markdown",
   "id": "7dd8a16d-ab5e-4e09-9787-3eb8fbaef80b",
   "metadata": {},
   "source": [
    "## 부산대 학식 정보"
   ]
  },
  {
   "cell_type": "code",
   "execution_count": 16,
   "id": "ea861f47-d8c9-4bd7-8419-eda961582d59",
   "metadata": {},
   "outputs": [
    {
     "name": "stdout",
     "output_type": "stream",
     "text": [
      "Collecting html5lib\n",
      "  Downloading html5lib-1.1-py2.py3-none-any.whl.metadata (16 kB)\n",
      "Requirement already satisfied: six>=1.9 in /opt/conda/lib/python3.11/site-packages (from html5lib) (1.16.0)\n",
      "Requirement already satisfied: webencodings in /opt/conda/lib/python3.11/site-packages (from html5lib) (0.5.1)\n",
      "Downloading html5lib-1.1-py2.py3-none-any.whl (112 kB)\n",
      "Installing collected packages: html5lib\n",
      "Successfully installed html5lib-1.1\n"
     ]
    }
   ],
   "source": [
    "!pip install html5lib"
   ]
  },
  {
   "cell_type": "code",
   "execution_count": 7,
   "id": "e91a6ded-b9cd-4b0c-b0f3-cf95f658337c",
   "metadata": {},
   "outputs": [
    {
     "name": "stdout",
     "output_type": "stream",
     "text": [
      "====================\n",
      "2024.12.09 월\n",
      "====================\n",
      "\t 정식-5,500원\n",
      "백미밥\n",
      "물만두국\n",
      "꿔바로우/소스\n",
      "순대매콤볶음\n",
      "연두부/부추양념장\n",
      "상추겉절이\n",
      "포기김치\n",
      "\n",
      "\n",
      "====================\n",
      "2024.12.10 화\n",
      "====================\n",
      "\t  정식-5,500원\n",
      "잡곡밥\n",
      "감자탕\n",
      "치킨치즈가스/소스\n",
      "우동굴소스볶음\n",
      "후랑크햄옥수수콘볶음\n",
      "열무겉절이\n",
      "포기김치\n",
      "\n",
      "\n",
      "====================\n",
      "2024.12.11 수\n",
      "====================\n",
      "\t 정식-5,500원\n",
      "강황밥\n",
      "모듬어묵국\n",
      "돈육김치찜\n",
      "만두/비빔야채\n",
      "김가루견과무침\n",
      "콩나물무침\n",
      "포기김치\n",
      "\n",
      "====================\n",
      "2024.12.12 목\n",
      "====================\n",
      "\t 정식-5,500원\n",
      "백미밥\n",
      "버섯된장국\n",
      "떡갈비/소스\n",
      "카레\n",
      "실곤약맛살샐러드\n",
      "청경채치커리겉절이\n",
      "포기김치\n",
      "\n",
      "\n",
      "====================\n",
      "2024.12.13 금\n",
      "====================\n",
      "정식-5,500원\n",
      "잡곡밥\n",
      "국수\n",
      "순살치킨/맛초킹소스\n",
      "사각어묵매콤무침\n",
      "양상추야채샐러드/소스\n",
      "상추겉절이\n",
      "포기김치\n",
      "\n",
      "\n"
     ]
    }
   ],
   "source": [
    "import requests as req\n",
    "from bs4 import BeautifulSoup as bs\n",
    "url = 'https://pusan.ac.kr/kor/CMS/MenuMgr/menuListOnBuilding.do'\n",
    "headers = {\"User-Agent\": \"Mozilla/5.0 (Macintosh; Intel Mac OS X 10_15_7) AppleWebKit/605.1.15 (KHTML, like Gecko) Version/18.1.1 Safari/605.1.15\"}\n",
    "web = req.get(url, headers=headers)\n",
    "#ㅁsoup = bs(web.content, 'html.parser')\n",
    "soup = bs(web.content, 'html5lib')\n",
    "date = soup.select('.menu-tbl .date') \n",
    "day = soup.select('.menu-tbl .day') \n",
    "won = soup.select('.menu-tbl .menu-tit01')\n",
    "menu = soup.select('h3.menu-tit01+p')\n",
    "#print(date, day, won, menu)\n",
    "for d, y, w, m in zip(date, day, won, menu):\n",
    "    print('='*20)\n",
    "    print(d.text, y.text)\n",
    "    print('='*20)\n",
    "    print(w.text.rstrip())\n",
    "    print(m.text)\n",
    "    print()"
   ]
  },
  {
   "cell_type": "code",
   "execution_count": 3,
   "id": "1bf063e3-2d64-4c42-8843-1306ea5b7081",
   "metadata": {},
   "outputs": [],
   "source": [
    "import test01"
   ]
  },
  {
   "cell_type": "code",
   "execution_count": 5,
   "id": "2e8fbe52-bc51-4413-9854-7b8be9766f0b",
   "metadata": {},
   "outputs": [
    {
     "name": "stdout",
     "output_type": "stream",
     "text": [
      "반갑습니다.\n"
     ]
    }
   ],
   "source": [
    "test01.hihi()"
   ]
  },
  {
   "cell_type": "markdown",
   "id": "79a51a13-cc77-4ac6-9d57-e62f326326dc",
   "metadata": {},
   "source": [
    "## 부산외대 학식 정보"
   ]
  },
  {
   "cell_type": "code",
   "execution_count": 8,
   "id": "81fd1089-0f47-426e-9c27-461c55ce0b54",
   "metadata": {},
   "outputs": [
    {
     "name": "stdout",
     "output_type": "stream",
     "text": [
      "Requirement already satisfied: certifi in /opt/conda/lib/python3.11/site-packages (2023.7.22)\n"
     ]
    }
   ],
   "source": [
    "!pip install certifi"
   ]
  },
  {
   "cell_type": "code",
   "execution_count": null,
   "id": "71148dfc-02ac-41f0-bc0e-644dd49b1360",
   "metadata": {},
   "outputs": [],
   "source": [
    "import requests as req\n",
    "import certifi\n",
    "from bs4 import BeautifulSoup as bs\n",
    "url = 'https://www.bufs.ac.kr/bbs/my/ajax.view.skin.php?bo_table=weekly_meal&wr_id=1'\n",
    "headers = {\"User-Agent\": \"Mozilla/5.0 (Macintosh; Intel Mac OS X 10_15_7) AppleWebKit/605.1.15 (KHTML, like Gecko) Version/18.1.1 Safari/605.1.15\"}\n",
    "\n",
    "web = req.get(url, headers=headers, verify=certifi.where())\n",
    "soup = bs(web.content, 'html.parser')\n",
    "date = soup.select('table th')  # 간단화된 예\n",
    "menu = soup.select('table p')  # 간단화된 예\n",
    "\n",
    "for d, m in zip(date, menu):\n",
    "    print(date)\n",
    "    print(menu)"
   ]
  },
  {
   "cell_type": "code",
   "execution_count": 1,
   "id": "4d73acff-3e3a-4dc4-982a-f80e59add006",
   "metadata": {},
   "outputs": [],
   "source": [
    "import foodlist as fd"
   ]
  },
  {
   "cell_type": "code",
   "execution_count": 2,
   "id": "0f58c9e5-d977-44c8-af49-2763cad57237",
   "metadata": {},
   "outputs": [
    {
     "name": "stdout",
     "output_type": "stream",
     "text": [
      "====================\n",
      "2024.12.09 월\n",
      "====================\n",
      "\t 정식-5,500원\n",
      "백미밥\n",
      "물만두국\n",
      "꿔바로우/소스\n",
      "순대매콤볶음\n",
      "연두부/부추양념장\n",
      "상추겉절이\n",
      "포기김치\n",
      "\n",
      "\n",
      "====================\n",
      "2024.12.10 화\n",
      "====================\n",
      "\t  정식-5,500원\n",
      "잡곡밥\n",
      "감자탕\n",
      "치킨치즈가스/소스\n",
      "우동굴소스볶음\n",
      "후랑크햄옥수수콘볶음\n",
      "열무겉절이\n",
      "포기김치\n",
      "\n",
      "\n",
      "====================\n",
      "2024.12.11 수\n",
      "====================\n",
      "\t 정식-5,500원\n",
      "강황밥\n",
      "모듬어묵국\n",
      "돈육김치찜\n",
      "만두/비빔야채\n",
      "김가루견과무침\n",
      "콩나물무침\n",
      "포기김치\n",
      "\n",
      "====================\n",
      "2024.12.12 목\n",
      "====================\n",
      "\t 정식-5,500원\n",
      "백미밥\n",
      "버섯된장국\n",
      "떡갈비/소스\n",
      "카레\n",
      "실곤약맛살샐러드\n",
      "청경채치커리겉절이\n",
      "포기김치\n",
      "\n",
      "\n",
      "====================\n",
      "2024.12.13 금\n",
      "====================\n",
      "정식-5,500원\n",
      "잡곡밥\n",
      "국수\n",
      "순살치킨/맛초킹소스\n",
      "사각어묵매콤무침\n",
      "양상추야채샐러드/소스\n",
      "상추겉절이\n",
      "포기김치\n",
      "\n",
      "\n"
     ]
    }
   ],
   "source": [
    "fd.pr()"
   ]
  },
  {
   "cell_type": "code",
   "execution_count": null,
   "id": "cd6f7097-fa1b-44e9-96a3-a630277163c5",
   "metadata": {},
   "outputs": [],
   "source": []
  }
 ],
 "metadata": {
  "kernelspec": {
   "display_name": "Python 3 (ipykernel)",
   "language": "python",
   "name": "python3"
  },
  "language_info": {
   "codemirror_mode": {
    "name": "ipython",
    "version": 3
   },
   "file_extension": ".py",
   "mimetype": "text/x-python",
   "name": "python",
   "nbconvert_exporter": "python",
   "pygments_lexer": "ipython3",
   "version": "3.11.6"
  }
 },
 "nbformat": 4,
 "nbformat_minor": 5
}
