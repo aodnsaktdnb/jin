{
 "cells": [
  {
   "cell_type": "markdown",
   "id": "8fce74cc-9bf5-4772-80fc-cf9d1c70d0c4",
   "metadata": {},
   "source": [
    "# 파일시스템"
   ]
  },
  {
   "cell_type": "markdown",
   "id": "c325dc36-969e-490b-a3ce-13ac7bce47b8",
   "metadata": {},
   "source": [
    "## 파일 읽고 쓰기 *\n",
    "<table>\n",
    "<thead>\n",
    "<tr>\n",
    "<th>파일열기모드</th>\n",
    "<th>설명</th>\n",
    "</tr>\n",
    "</thead>\n",
    "<tbody>\n",
    "<tr>\n",
    "<td>r</td>\n",
    "<td>읽기 모드: 파일을 읽기만 할 때 사용한다.</td>\n",
    "</tr>\n",
    "<tr>\n",
    "<td>w</td>\n",
    "<td>쓰기 모드: 파일에 내용을 쓸 때 사용한다.</td>\n",
    "</tr>\n",
    "<tr>\n",
    "<td>a</td>\n",
    "<td>추가 모드: 파일의 마지막에 새로운 내용을 추가할 때 사용한다.</td>\n",
    "</tr>\n",
    "</tbody>\n",
    "</table>\n",
    "<pre>\n",
    "<strong>파일 경로와 슬래시(/)</strong>\n",
    "파이썬 코드에서 파일 경로를 표시할 때 \"C:/doit/새파일.txt\"처럼 슬래시(/)를 사용할 수 있다. 만약 역슬래시(\\)를 사용한다면 \"C:\\\\doit\\\\새파일.txt\"처럼 역슬래시를 2개 사용하거나 r\"C:\\doit\\새파일.txt\"와 같이 문자열 앞에 r 문자(raw string)를 덧붙여 사용해야 한다. 왜냐하면 \"C:\\note\\test.txt\"처럼 파일 경로에 \\n과 같은 이스케이프 문자가 있을 경우, 줄바꿈 문자로 해석되어 의도했던 파일 경로와 달라지기 때문이다.</pre>"
   ]
  },
  {
   "cell_type": "markdown",
   "id": "81d8d22a-e015-4c14-b6c5-9cc5eae975d6",
   "metadata": {},
   "source": [
    "## 파일생성하기"
   ]
  },
  {
   "cell_type": "code",
   "execution_count": 7,
   "id": "9ab399c0-8a7d-414f-a7ff-731774bb6a36",
   "metadata": {},
   "outputs": [],
   "source": [
    "f = open(\"새파일2.txt\",\"w\")\n",
    "f.close()"
   ]
  },
  {
   "cell_type": "markdown",
   "id": "8fed3f2f-ceb9-4ce4-8a22-e5116b1a3b4f",
   "metadata": {},
   "source": [
    "## 내용쓰기"
   ]
  },
  {
   "cell_type": "code",
   "execution_count": 1,
   "id": "910d23e8-ed92-4773-a140-25759248d19c",
   "metadata": {},
   "outputs": [],
   "source": [
    "f = open(\"새파일2.txt\",\"w\")\n",
    "for i in range(1,11):\n",
    "    data = f'{i}번째 줄 입니다.\\n'\n",
    "    f.write(str(i))\n",
    "f.close()"
   ]
  },
  {
   "cell_type": "code",
   "execution_count": 2,
   "id": "2fbec520-29a8-42ca-a4c9-db6f837c3798",
   "metadata": {},
   "outputs": [
    {
     "name": "stdout",
     "output_type": "stream",
     "text": [
      "하이 \n",
      "어렵네요\n",
      "잠이옵니다\n",
      "안녕히계세요\n"
     ]
    }
   ],
   "source": [
    "f = open(\"새파일.txt\",\"r\")\n",
    "# print(dir(f))\n",
    "data = f.read()\n",
    "print(data)\n",
    "f.close()"
   ]
  },
  {
   "cell_type": "code",
   "execution_count": 3,
   "id": "8822ae03-eedb-4220-b89b-67c7a4958daa",
   "metadata": {},
   "outputs": [
    {
     "name": "stdout",
     "output_type": "stream",
     "text": [
      "12345678910\n"
     ]
    }
   ],
   "source": [
    "f = open(\"새파일2.txt\",\"r\")\n",
    "# print(dir(f))\n",
    "data = f.read()\n",
    "print(data)\n",
    "f.close()"
   ]
  },
  {
   "cell_type": "code",
   "execution_count": 13,
   "id": "eb6fe686-1903-4d15-a890-f3140107e67d",
   "metadata": {},
   "outputs": [
    {
     "name": "stdout",
     "output_type": "stream",
     "text": [
      "하이 \n",
      "\n",
      "어렵네요\n",
      "\n",
      "잠이옵니다\n",
      "\n",
      "안녕히계세요\n"
     ]
    }
   ],
   "source": [
    "f = open(\"새파일.txt\",\"r\")\n",
    "while 1:\n",
    "    line = f.readline()\n",
    "    if not line: break\n",
    "    print(line)\n",
    "f.close()"
   ]
  },
  {
   "cell_type": "code",
   "execution_count": 14,
   "id": "c756b812-cb47-4d9c-91ab-4ffcca0d9404",
   "metadata": {},
   "outputs": [
    {
     "name": "stdout",
     "output_type": "stream",
     "text": [
      "['하이 \\n', '어렵네요\\n', '잠이옵니다\\n', '안녕히계세요']\n"
     ]
    }
   ],
   "source": [
    "f = open(\"새파일.txt\",\"r\")\n",
    "lines = f.readlines()\n",
    "print(lines)\n",
    "f.close()"
   ]
  },
  {
   "cell_type": "code",
   "execution_count": 15,
   "id": "58fe0870-b635-47de-ba46-c1324f6bd976",
   "metadata": {},
   "outputs": [
    {
     "name": "stdout",
     "output_type": "stream",
     "text": [
      "하이 \n",
      "\n",
      "어렵네요\n",
      "\n",
      "잠이옵니다\n",
      "\n",
      "안녕히계세요\n"
     ]
    }
   ],
   "source": [
    "for line in lines:\n",
    "    print(line)"
   ]
  },
  {
   "cell_type": "code",
   "execution_count": 16,
   "id": "5824198a-751e-4b51-a3b8-30471672246c",
   "metadata": {},
   "outputs": [
    {
     "name": "stdout",
     "output_type": "stream",
     "text": [
      "하이\n",
      "어렵네요\n",
      "잠이옵니다\n",
      "안녕히계세요\n"
     ]
    }
   ],
   "source": [
    "for line in lines:\n",
    "    print(line.strip())"
   ]
  },
  {
   "cell_type": "code",
   "execution_count": 21,
   "id": "75a816bc-932a-4a3e-b151-831b33f9b529",
   "metadata": {},
   "outputs": [
    {
     "name": "stdout",
     "output_type": "stream",
     "text": [
      "복사완료\n"
     ]
    }
   ],
   "source": [
    "fr = open(\"새파일.txt\",\"r\")\n",
    "data = fr.read()\n",
    "fr.close()\n",
    "newfr = open(\"새파일3.txt\",\"w\")\n",
    "newfr.write(data)\n",
    "print(\"복사완료\")\n",
    "newfr.close()"
   ]
  },
  {
   "cell_type": "code",
   "execution_count": 27,
   "id": "21469c57-3b6e-4681-b80b-bdec574d22e3",
   "metadata": {},
   "outputs": [],
   "source": [
    "nfr = open(\"새파일3.txt\",\"a\")\n",
    "for n in range(10):\n",
    "    data = str(n) + '\\n'\n",
    "    nfr.write(data)\n",
    "nfr.close()"
   ]
  },
  {
   "cell_type": "code",
   "execution_count": 1,
   "id": "f49b33ae-77ac-4e93-a8c6-546bae9d7134",
   "metadata": {},
   "outputs": [
    {
     "name": "stdout",
     "output_type": "stream",
     "text": [
      "하이 \n",
      "어렵네요\n",
      "잠이옵니다\n",
      "안녕히계세요9\n",
      "9\n",
      "0\n",
      "1\n",
      "2\n",
      "3\n",
      "4\n",
      "5\n",
      "6\n",
      "7\n",
      "8\n",
      "9\n",
      "\n"
     ]
    }
   ],
   "source": [
    "nfr = open(\"새파일3.txt\",\"r\")\n",
    "data = nfr.read()\n",
    "print(data)\n",
    "nfr.close()"
   ]
  },
  {
   "cell_type": "code",
   "execution_count": 7,
   "id": "143fc0b8-6bf6-485a-a156-aa53b5c3356f",
   "metadata": {},
   "outputs": [],
   "source": [
    "f = open(\"뉴파일.txt\",\"w\")\n",
    "for i in range(10,21):\n",
    "    f.write(f'{i}\\n')\n",
    "f.close()\n",
    "f = open(\"뉴파일.txt\",\"a\")\n",
    "for i in range(21,41):\n",
    "    f.write(f'{i}\\n')\n",
    "f.close()\n"
   ]
  },
  {
   "cell_type": "code",
   "execution_count": 8,
   "id": "e31f8b46-494f-4f49-9ff1-18a0ca585e26",
   "metadata": {},
   "outputs": [
    {
     "name": "stdout",
     "output_type": "stream",
     "text": [
      "10\n",
      "11\n",
      "12\n",
      "13\n",
      "14\n",
      "15\n",
      "16\n",
      "17\n",
      "18\n",
      "19\n",
      "20\n",
      "21\n",
      "22\n",
      "23\n",
      "24\n",
      "25\n",
      "26\n",
      "27\n",
      "28\n",
      "29\n",
      "30\n",
      "31\n",
      "32\n",
      "33\n",
      "34\n",
      "35\n",
      "36\n",
      "37\n",
      "38\n",
      "39\n",
      "40\n",
      "\n"
     ]
    }
   ],
   "source": [
    "f = open(\"뉴파일.txt\",\"r\")\n",
    "i = f.read()\n",
    "print(i)\n",
    "f.close()"
   ]
  },
  {
   "cell_type": "code",
   "execution_count": 3,
   "id": "6d1f49c3-c06d-4d2c-88e3-bd777b549a60",
   "metadata": {},
   "outputs": [],
   "source": [
    "with open(\"새파일w.txt\",\"w\") as f:\n",
    "    f.write('왜')"
   ]
  },
  {
   "cell_type": "code",
   "execution_count": 5,
   "id": "b4021ef0-88e1-417d-93bc-3107d61a8b20",
   "metadata": {},
   "outputs": [
    {
     "name": "stdout",
     "output_type": "stream",
     "text": [
      "<_io.TextIOWrapper name='새파일w.txt' mode='r' encoding='UTF-8'>\n"
     ]
    }
   ],
   "source": [
    "with open(\"새파일w.txt\",\"r\") as f:\n",
    "    print(f)"
   ]
  },
  {
   "cell_type": "code",
   "execution_count": null,
   "id": "8ac625b4-48f8-4b1f-b792-4386a15c30e8",
   "metadata": {},
   "outputs": [],
   "source": []
  }
 ],
 "metadata": {
  "kernelspec": {
   "display_name": "Python 3 (ipykernel)",
   "language": "python",
   "name": "python3"
  },
  "language_info": {
   "codemirror_mode": {
    "name": "ipython",
    "version": 3
   },
   "file_extension": ".py",
   "mimetype": "text/x-python",
   "name": "python",
   "nbconvert_exporter": "python",
   "pygments_lexer": "ipython3",
   "version": "3.11.6"
  }
 },
 "nbformat": 4,
 "nbformat_minor": 5
}
